{
 "cells": [
  {
   "cell_type": "code",
   "execution_count": 14,
   "id": "67ccfb73",
   "metadata": {},
   "outputs": [
    {
     "name": "stdout",
     "output_type": "stream",
     "text": [
      "Conversion complete! YOLO format TXT files created for each image.\n"
     ]
    }
   ],
   "source": [
    "import json\n",
    "import os\n",
    "\n",
    "# Paths\n",
    "json_path = r\"C:\\Users\\LENOVO\\Downloads\\Programs\\54\\images\\val\\instances_val.json\"  \n",
    "image_dir = r\"C:\\Users\\LENOVO\\Downloads\\Programs\\54\\images\\val\"\n",
    "output_dir = r\"C:\\Users\\LENOVO\\Downloads\\Programs\\54\\images\\val\"  \n",
    "\n",
    "# Create output directory if it doesn't exist\n",
    "os.makedirs(output_dir, exist_ok=True)\n",
    "\n",
    "# Load COCO annotations\n",
    "with open(json_path) as f:\n",
    "    coco_data = json.load(f)\n",
    "\n",
    "# Create a dictionary to map image_id to annotations\n",
    "image_annotations = {}\n",
    "for ann in coco_data['annotations']:\n",
    "    image_id = ann['image_id']\n",
    "    if image_id not in image_annotations:\n",
    "        image_annotations[image_id] = []\n",
    "    image_annotations[image_id].append(ann)\n",
    "\n",
    "# Create a mapping from image_id to file_name\n",
    "image_id_to_file = {img['id']: img['file_name'] for img in coco_data['images']}\n",
    "\n",
    "# Process each image\n",
    "for image_id, annotations in image_annotations.items():\n",
    "    file_name = image_id_to_file[image_id]\n",
    "    txt_file_name = os.path.splitext(file_name)[0] + '.txt'\n",
    "    txt_path = os.path.join(output_dir, txt_file_name)\n",
    "    \n",
    "    # Get image dimensions (assuming all images are 512x512 as per your JSON)\n",
    "    width = 512\n",
    "    height = 512\n",
    "    \n",
    "    with open(txt_path, 'w') as f:\n",
    "        for ann in annotations:\n",
    "            # COCO bbox format: [x_min, y_min, width, height]\n",
    "            # YOLO format: class_id center_x center_y width height (all normalized)\n",
    "            bbox = ann['bbox']\n",
    "            category_id = ann['category_id']\n",
    "            \n",
    "            # Convert to YOLO format\n",
    "            x_center = (bbox[0] + bbox[2] / 2) / width\n",
    "            y_center = (bbox[1] + bbox[3] / 2) / height\n",
    "            w = bbox[2] / width\n",
    "            h = bbox[3] / height\n",
    "            \n",
    "            # Write to file\n",
    "            f.write(f\"{category_id} {x_center} {y_center} {w} {h}\\n\")\n",
    "\n",
    "print(\"Conversion complete! YOLO format TXT files created for each image.\")"
   ]
  }
 ],
 "metadata": {
  "kernelspec": {
   "display_name": "Python 3",
   "language": "python",
   "name": "python3"
  },
  "language_info": {
   "codemirror_mode": {
    "name": "ipython",
    "version": 3
   },
   "file_extension": ".py",
   "mimetype": "text/x-python",
   "name": "python",
   "nbconvert_exporter": "python",
   "pygments_lexer": "ipython3",
   "version": "3.13.2"
  }
 },
 "nbformat": 4,
 "nbformat_minor": 5
}
