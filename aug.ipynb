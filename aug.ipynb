{
 "cells": [
  {
   "cell_type": "code",
   "execution_count": 2,
   "id": "3edf9db2",
   "metadata": {},
   "outputs": [
    {
     "name": "stderr",
     "output_type": "stream",
     "text": [
      "Augmenting images: 100%|██████████| 1085/1085 [00:56<00:00, 19.31it/s]\n"
     ]
    },
    {
     "name": "stdout",
     "output_type": "stream",
     "text": [
      "Augmented images saved in: C:\\Users\\LENOVO\\Downloads\\Programs\\New folder (2)\n"
     ]
    }
   ],
   "source": [
    "import os\n",
    "import cv2\n",
    "import albumentations as A\n",
    "from tqdm import tqdm  # Optional progress bar\n",
    "\n",
    "# Input/Output directory (same folder)\n",
    "input_dir = r\"C:\\Users\\LENOVO\\Downloads\\Programs\\New folder (2)\"\n",
    "output_dir = input_dir  \n",
    "\n",
    "# Augmentation pipeline (only rotation, blur, crop, flip)\n",
    "augmentation_pipeline = A.Compose([\n",
    "    A.Rotate(limit=180, p=1),                  # Strong rotation (0° to 180°)\n",
    "    A.HorizontalFlip(p=0.5),                   # 50% chance of flip\n",
    "    A.VerticalFlip(p=0.5),                     # 50% chance of flip\n",
    "    A.RandomCrop(width=256, height=256, p=0.5), # Random crop (adjust size)\n",
    "    A.GaussianBlur(blur_limit=(3, 5)),          # Very mild blur (3x3 to 5x5 kernel)\n",
    "])\n",
    "\n",
    "# Get all images in the directory\n",
    "image_files = [f for f in os.listdir(input_dir) if f.lower().endswith(('.png', '.jpg', '.jpeg', '.tif', '.bmp'))]\n",
    "\n",
    "# Generate 10 augmented versions per image\n",
    "for image_file in tqdm(image_files, desc=\"Augmenting images\"):\n",
    "    image_path = os.path.join(input_dir, image_file)\n",
    "    image = cv2.imread(image_path)\n",
    "    image = cv2.cvtColor(image, cv2.COLOR_BGR2RGB)  # Convert to RGB\n",
    "\n",
    "    for i in range(10):  # 10 augmentations per image\n",
    "        augmented = augmentation_pipeline(image=image)[\"image\"]\n",
    "        augmented_filename = f\"{os.path.splitext(image_file)[0]}_aug{i}{os.path.splitext(image_file)[1]}\"\n",
    "        augmented_path = os.path.join(output_dir, augmented_filename)\n",
    "        cv2.imwrite(augmented_path, cv2.cvtColor(augmented, cv2.COLOR_RGB2BGR))  # Save as BGR\n",
    "\n",
    "print(f\"Augmented images saved in: {output_dir}\")"
   ]
  }
 ],
 "metadata": {
  "kernelspec": {
   "display_name": "Python 3",
   "language": "python",
   "name": "python3"
  },
  "language_info": {
   "codemirror_mode": {
    "name": "ipython",
    "version": 3
   },
   "file_extension": ".py",
   "mimetype": "text/x-python",
   "name": "python",
   "nbconvert_exporter": "python",
   "pygments_lexer": "ipython3",
   "version": "3.13.2"
  }
 },
 "nbformat": 4,
 "nbformat_minor": 5
}
