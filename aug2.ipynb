{
 "cells": [
  {
   "cell_type": "code",
   "execution_count": 2,
   "id": "22066b72",
   "metadata": {},
   "outputs": [
    {
     "name": "stdout",
     "output_type": "stream",
     "text": [
      "Data augmentation completed successfully!\n"
     ]
    }
   ],
   "source": [
    "import os\n",
    "import cv2\n",
    "import numpy as np\n",
    "from albumentations import (\n",
    "    Compose, Rotate, HorizontalFlip, VerticalFlip, \n",
    "    GaussianBlur, RandomCrop, BboxParams\n",
    ")\n",
    "\n",
    "# Set your paths\n",
    "input_dir = r\"C:\\Users\\LENOVO\\Downloads\\Programs\\positive\"\n",
    "output_dir = input_dir  # same directory\n",
    "\n",
    "# Create augmentation pipeline with more rotation and less blur\n",
    "aug = Compose([\n",
    "    Rotate(limit=45, p=0.8),  # High probability (80%) and moderate rotation\n",
    "    HorizontalFlip(p=0.5),\n",
    "    VerticalFlip(p=0.3),\n",
    "    GaussianBlur(blur_limit=(1, 2), p=0.2),  # Low probability (20%) and minimal blur\n",
    "    RandomCrop(width=450, height=450, p=0.5),  # Assuming your images are larger than this\n",
    "], bbox_params=BboxParams(format='yolo', min_visibility=0.3))\n",
    "\n",
    "# Function to read YOLO annotations\n",
    "def read_yolo_annotations(txt_path, img_width, img_height):\n",
    "    with open(txt_path, 'r') as f:\n",
    "        lines = f.readlines()\n",
    "    bboxes = []\n",
    "    for line in lines:\n",
    "        class_id, x_center, y_center, width, height = map(float, line.strip().split())\n",
    "        bboxes.append([x_center, y_center, width, height, class_id])\n",
    "    return bboxes\n",
    "\n",
    "# Function to write YOLO annotations\n",
    "def write_yolo_annotations(txt_path, bboxes):\n",
    "    with open(txt_path, 'w') as f:\n",
    "        for bbox in bboxes:\n",
    "            line = f\"{int(bbox[4])} {bbox[0]:.6f} {bbox[1]:.6f} {bbox[2]:.6f} {bbox[3]:.6f}\\n\"\n",
    "            f.write(line)\n",
    "\n",
    "# Process each image\n",
    "for filename in os.listdir(input_dir):\n",
    "    if filename.lower().endswith(('.png', '.jpg', '.jpeg')):\n",
    "        # Load image and corresponding annotation\n",
    "        img_path = os.path.join(input_dir, filename)\n",
    "        base_name = os.path.splitext(filename)[0]\n",
    "        txt_path = os.path.join(input_dir, f\"{base_name}.txt\")\n",
    "        \n",
    "        image = cv2.imread(img_path)\n",
    "        if image is None:\n",
    "            continue\n",
    "            \n",
    "        height, width = image.shape[:2]\n",
    "        bboxes = read_yolo_annotations(txt_path, width, height)\n",
    "        \n",
    "        # Generate 10 augmented versions\n",
    "        for i in range(1, 11):\n",
    "            # Apply augmentation\n",
    "            augmented = aug(image=image, bboxes=bboxes)\n",
    "            aug_image = augmented['image']\n",
    "            aug_bboxes = augmented['bboxes']\n",
    "            \n",
    "            # Save augmented image\n",
    "            aug_img_name = f\"{base_name}_aug{i}.jpg\"\n",
    "            aug_img_path = os.path.join(output_dir, aug_img_name)\n",
    "            cv2.imwrite(aug_img_path, aug_image)\n",
    "            \n",
    "            # Save augmented annotations\n",
    "            aug_txt_name = f\"{base_name}_aug{i}.txt\"\n",
    "            aug_txt_path = os.path.join(output_dir, aug_txt_name)\n",
    "            write_yolo_annotations(aug_txt_path, aug_bboxes)\n",
    "\n",
    "print(\"Data augmentation completed successfully!\")"
   ]
  }
 ],
 "metadata": {
  "kernelspec": {
   "display_name": "Python 3",
   "language": "python",
   "name": "python3"
  },
  "language_info": {
   "codemirror_mode": {
    "name": "ipython",
    "version": 3
   },
   "file_extension": ".py",
   "mimetype": "text/x-python",
   "name": "python",
   "nbconvert_exporter": "python",
   "pygments_lexer": "ipython3",
   "version": "3.13.2"
  }
 },
 "nbformat": 4,
 "nbformat_minor": 5
}
